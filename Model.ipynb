{
 "cells": [
  {
   "cell_type": "code",
   "execution_count": 24,
   "metadata": {},
   "outputs": [],
   "source": [
    "import pandas as pd\n",
    "import numpy as np\n",
    "import random\n",
    "import tensorflow.keras as keras\n",
    "import matplotlib.pyplot as plt\n",
    "\n",
    "# pandas is useful for data manipulation and analysis\n",
    "# we use the read_csv function inside the pandas library to read the dataset downloaded\n",
    "# we have to specify the file path\n",
    "train = pd.read_csv('Data_Set/sign_mnist_train.csv')\n",
    "test = pd.read_csv('Data_Set/sign_mnist_test.csv')\n",
    "\n",
    "# we use the array function inside the numpy library to convert the data set to numpy arrays\n",
    "train_data = np.array(train, dtype = 'float32')\n",
    "test_data = np.array(test, dtype = 'float32')"
   ]
  },
  {
   "cell_type": "code",
   "execution_count": null,
   "metadata": {},
   "outputs": [],
   "source": [
    "# Plot a few images and label\n",
    "# The main purpose of this block of code is to check whether our data has been properly read and is working\n",
    "\n",
    "# List of alphabets according to the numbers assigned inside the labels, 0 for A, 1 for B and so on\n",
    "class_names = ['A', 'B', 'C', 'D', 'E', 'F', 'G', 'H', 'I', 'J', 'K', 'L', 'M', 'N', 'O', 'P', 'Q', 'R', 'S', 'T', 'U', 'V', 'W', 'X', 'Y']\n",
    "\n",
    "# this is to generate a number between 1 and the total number of rows that exist in the training set\n",
    "# basically load an image data from all the images available in csv format \n",
    "i = random.randint(1, train.shape[0])\n",
    "fig1, ax1 = plt.subplots(figsize = (1.5, 1.5))\n",
    "\n",
    "# [i, 1:] is used to take the entire pixel array after the first column, as first column is for label\n",
    "# we use reshape (28, 28) to display it in the form of 28 * 28, to view the image\n",
    "plt.imshow(train_data[i, 1:].reshape((28, 28)), cmap = 'gray')\n",
    "# priniting the alphabet for which the sign stands for train_data[i, 0] gives us the numerical value stored in that row\n",
    "print(\"Label for the image/sign is:\", class_names[int(train_data[i, 0])])"
   ]
  },
  {
   "cell_type": "code",
   "execution_count": null,
   "metadata": {},
   "outputs": [],
   "source": [
    "# Data distribution and visualization\n",
    "# This is a good method to check whether the data set is balanced or not\n",
    "\n",
    "fig = plt.figure(figsize = (18, 18))\n",
    "ax1 = fig.add_subplot(221)\n",
    "train['label'].value_counts().plot(kind = 'bar', ax = ax1)\n",
    "ax1.set_ylabel('Count')\n",
    "ax1.set_title('Label')"
   ]
  }
 ],
 "metadata": {
  "interpreter": {
   "hash": "c2f2c10e8b0c6806d9d04e8d3a17761b4c554a55a9bbe8b591472136559041bf"
  },
  "kernelspec": {
   "display_name": "Python 3.9.8 64-bit",
   "language": "python",
   "name": "python3"
  },
  "language_info": {
   "codemirror_mode": {
    "name": "ipython",
    "version": 3
   },
   "file_extension": ".py",
   "mimetype": "text/x-python",
   "name": "python",
   "nbconvert_exporter": "python",
   "pygments_lexer": "ipython3",
   "version": "3.9.8"
  },
  "orig_nbformat": 4
 },
 "nbformat": 4,
 "nbformat_minor": 2
}
