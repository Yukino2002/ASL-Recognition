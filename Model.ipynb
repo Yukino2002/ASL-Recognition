{
 "cells": [
  {
   "cell_type": "code",
   "execution_count": 19,
   "metadata": {},
   "outputs": [],
   "source": [
    "import pandas as pd\n",
    "import numpy as np\n",
    "import random\n",
    "import tensorflow.keras as keras\n",
    "import matplotlib.pyplot as plt\n",
    "\n",
    "# pandas is useful for data manipulation and analysis\n",
    "# we use the read_csv function inside the pandas library to read the dataset downloaded\n",
    "# we have to specify the file path\n",
    "train = pd.read_csv('Data_Set/sign_mnist_train.csv')\n",
    "valid = pd.read_csv('Data_Set/sign_mnist_test.csv')\n",
    "\n",
    "# we use the array function inside the numpy library to convert the data set to numpy arrays\n",
    "train_data = np.array(train, dtype = 'float32')\n",
    "valid_data = np.array(valid, dtype = 'float32')"
   ]
  },
  {
   "cell_type": "code",
   "execution_count": null,
   "metadata": {},
   "outputs": [],
   "source": [
    "# Plot a few images and label\n",
    "# The main purpose of this block of code is to check whether our data has been properly read and is working\n",
    "\n",
    "# List of alphabets according to the numbers assigned inside the labels, 0 for A, 1 for B and so on\n",
    "class_names = ['A', 'B', 'C', 'D', 'E', 'F', 'G', 'H', 'I', 'J', 'K', 'L', 'M', 'N', 'O', 'P', 'Q', 'R', 'S', 'T', 'U', 'V', 'W', 'X', 'Y']\n",
    "\n",
    "# this is to generate a number between 1 and the total number of rows that exist in the training set\n",
    "# basically load an image data from all the images available in csv format \n",
    "i = random.randint(1, train.shape[0])\n",
    "fig1, ax1 = plt.subplots(figsize = (1.5, 1.5))\n",
    "\n",
    "# [i, 1:] is used to take the entire pixel array after the first column, as first column is for label\n",
    "# we use reshape (28, 28) to display it in the form of 28 * 28, to view the image\n",
    "plt.imshow(train_data[i, 1:].reshape((28, 28)), cmap = 'gray')\n",
    "# priniting the alphabet for which the sign stands for train_data[i, 0] gives us the numerical value stored in that row\n",
    "print(\"Label for the image/sign is:\", class_names[int(train_data[i, 0])])"
   ]
  },
  {
   "cell_type": "code",
   "execution_count": null,
   "metadata": {},
   "outputs": [],
   "source": [
    "# Data distribution and visualization\n",
    "# This is a good method to check whether the data set is balanced or not\n",
    "\n",
    "fig = plt.figure(figsize = (18, 18))\n",
    "ax1 = fig.add_subplot(221)\n",
    "train['label'].value_counts().plot(kind = 'bar', ax = ax1)\n",
    "ax1.set_ylabel('Count')\n",
    "ax1.set_title('Label')"
   ]
  },
  {
   "cell_type": "code",
   "execution_count": 43,
   "metadata": {},
   "outputs": [],
   "source": [
    "# Now that we have loaded and checked that our data is loading normally and is balanced, we need to prepare it before giving it to the model\n",
    "# this involves splitting the data into x_train and y_train\n",
    "# normalising the input data\n",
    "# reshaping the input data\n",
    "# one-hot encoding the labels data set as the loss function that we are using is cross categorical entropy\n",
    "\n",
    "# here we split the data, removing the labels column\n",
    "x_train = train_data[:, 1:]\n",
    "x_valid = valid_data[:, 1:]\n",
    "\n",
    "# normalising the input data\n",
    "x_train = x_train / 255\n",
    "x_valid = x_valid / 255\n",
    "\n",
    "# reshaping the input data\n",
    "# the first parameter -1, specifies that the number of row vectors must be dynamically calculated\n",
    "# think of it as n, next are dimensions and the number of channels\n",
    "x_train = x_train.reshape(-1, 28, 28, 1)\n",
    "x_valid = x_valid.reshape(-1, 28, 28, 1)\n",
    "\n",
    "# assigning labels as the y_train\n",
    "y_train = train_data[:, 0]\n",
    "y_valid = valid_data[:, 0]\n",
    "\n",
    "# one-hot encoding the data\n",
    "y_train_cat = keras.utils.to_categorical(y_train, num_classes = 25)\n",
    "y_valid_cat = keras.utils.to_categorical(y_valid, num_classes = 25)"
   ]
  }
 ],
 "metadata": {
  "interpreter": {
   "hash": "c2f2c10e8b0c6806d9d04e8d3a17761b4c554a55a9bbe8b591472136559041bf"
  },
  "kernelspec": {
   "display_name": "Python 3.9.8 64-bit",
   "language": "python",
   "name": "python3"
  },
  "language_info": {
   "codemirror_mode": {
    "name": "ipython",
    "version": 3
   },
   "file_extension": ".py",
   "mimetype": "text/x-python",
   "name": "python",
   "nbconvert_exporter": "python",
   "pygments_lexer": "ipython3",
   "version": "3.9.8"
  },
  "orig_nbformat": 4
 },
 "nbformat": 4,
 "nbformat_minor": 2
}
