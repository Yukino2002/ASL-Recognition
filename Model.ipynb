{
 "cells": [
  {
   "cell_type": "code",
   "execution_count": 6,
   "metadata": {},
   "outputs": [],
   "source": [
    "import pandas as pd\n",
    "import numpy as np\n",
    "import random\n",
    "import tensorflow.keras as keras\n",
    "import matplotlib.pyplot as plt\n",
    "\n",
    "train = pd.read_csv('Data_Set/sign_mnist_train.csv')\n",
    "test = pd.read_csv('Data_Set/sign_mnist_test.csv')\n",
    "\n",
    "train_data = np.array(train, dtype = 'float32')\n",
    "test_data = np.array(test, dtype = 'float32')"
   ]
  },
  {
   "cell_type": "code",
   "execution_count": 57,
   "metadata": {},
   "outputs": [
    {
     "name": "stdout",
     "output_type": "stream",
     "text": [
      "Label for the image/sign is: H\n"
     ]
    },
    {
     "data": {
      "image/png": "[encoded data removed]",
      "text/plain": [
       "<Figure size 144x108 with 1 Axes>"
      ]
     },
     "metadata": {
      "needs_background": "light"
     },
     "output_type": "display_data"
    }
   ],
   "source": [
    "# List of alphabets according to the numbers assigned inside the labels, 0 for A, 1 for B and so on\n",
    "class_names = ['A', 'B', 'C', 'D', 'E', 'F', 'G', 'H', 'I', 'J', 'K', 'L', 'M', 'N', 'O', 'P', 'Q', 'R', 'S', 'T', 'U', 'V', 'W', 'X', 'Y']\n",
    "\n",
    "# this is to generate a number between 1 and the total number of rows that exist in the training set\n",
    "# basically load an image data from all the images available in csv format \n",
    "i = random.randint(1, train.shape[0])\n",
    "fig1, ax1 = plt.subplots(figsize = (2, 2))\n",
    "plt.imshow(train_data[i, 1:].reshape((28, 28)), cmap = 'gray')\n",
    "print(\"Label for the image/sign is:\", class_names[int(train_data[i, 0])])\n"
   ]
  }
 ],
 "metadata": {
  "interpreter": {
   "hash": "c2f2c10e8b0c6806d9d04e8d3a17761b4c554a55a9bbe8b591472136559041bf"
  },
  "kernelspec": {
   "display_name": "Python 3.9.8 64-bit",
   "language": "python",
   "name": "python3"
  },
  "language_info": {
   "codemirror_mode": {
    "name": "ipython",
    "version": 3
   },
   "file_extension": ".py",
   "mimetype": "text/x-python",
   "name": "python",
   "nbconvert_exporter": "python",
   "pygments_lexer": "ipython3",
   "version": "3.9.8"
  },
  "orig_nbformat": 4
 },
 "nbformat": 4,
 "nbformat_minor": 2
}
